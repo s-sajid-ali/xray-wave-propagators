{
 "cells": [
  {
   "cell_type": "code",
   "execution_count": 1,
   "metadata": {},
   "outputs": [],
   "source": [
    "import numpy as np\n",
    "import numexpr as ne"
   ]
  },
  {
   "cell_type": "code",
   "execution_count": 2,
   "metadata": {},
   "outputs": [],
   "source": [
    "'''\n",
    "Exact propagation in 1D. \n",
    "'''\n",
    "def exact_prop(in_wave,out_wave,L_in,L_out,wavel,z):\n",
    "    pi = np.pi\n",
    "    N_in = np.shape(in_wave)[0]\n",
    "    in_domain = np.linspace(-L_in/2,L_in/2,N_in)\n",
    "    N_out = np.shape(out_wave)[0]\n",
    "    out_domain = np.linspace(-L_out/2,L_out/2,N_out)\n",
    "    step_in = L_in/N_in\n",
    "    for i in range(N_out):\n",
    "        for j in range(N_in):\n",
    "            x = in_domain[j]\n",
    "            f = in_wave[j]\n",
    "            x1 = out_domain[i]\n",
    "            #out_wave[i] += f*np.exp((-1j*pi*x*x)/(wavel*z))*np.exp((-1j*2*pi*x*x1)/(wavel*z))\n",
    "            out_wave[i] += ne.evaluate('f*exp((-1j*pi*x*x)/(wavel*z))\\\n",
    "                                       *exp((-1j*2*pi*x*x1)/(wavel*z))')\n",
    "    out_wave *= (1/np.sqrt(1j*wavel*z))*step_in\n",
    "    return"
   ]
  },
  {
   "cell_type": "code",
   "execution_count": null,
   "metadata": {},
   "outputs": [],
   "source": [
    "'''\n",
    "Exact propagation in 2D. \n",
    "'''\n",
    "def exact_prop(in_wave,out_wave,L_in,L_out,wavel,z):\n",
    "    pi = np.pi\n",
    "    N_in_x = np.shape(in_wave)[0]\n",
    "    N_in_y = np.shape(in_wave)[1]\n",
    "    in_domain = np.linspace(-L_in/2,L_in/2,N_in)\n",
    "    N_out_x = np.shape(out_wave)[0]\n",
    "    N_out_y = np.shape(out_wave)[1]\n",
    "    out_domain = np.linspace(-L_out/2,L_out/2,N_out)\n",
    "    step_in = L_in/N_in\n",
    "    for i in range(N_out):\n",
    "        for j in range(N_in):\n",
    "            x = in_domain[j]\n",
    "            f = in_wave[j]\n",
    "            x1 = out_domain[i]\n",
    "            #out_wave[i] += f*np.exp((-1j*pi*x*x)/(wavel*z))*np.exp((-1j*2*pi*x*x1)/(wavel*z))\n",
    "            out_wave[i] += ne.evaluate('f*exp((-1j*pi*x*x)/(wavel*z))\\\n",
    "                                       *exp((-1j*2*pi*x*x1)/(wavel*z))')\n",
    "    out_wave *= (1/np.sqrt(1j*wavel*z))*step_in\n",
    "    return"
   ]
  }
 ],
 "metadata": {
  "kernelspec": {
   "display_name": "Python 3",
   "language": "python",
   "name": "python3"
  },
  "language_info": {
   "codemirror_mode": {
    "name": "ipython",
    "version": 3
   },
   "file_extension": ".py",
   "mimetype": "text/x-python",
   "name": "python",
   "nbconvert_exporter": "python",
   "pygments_lexer": "ipython3",
   "version": "3.6.3"
  }
 },
 "nbformat": 4,
 "nbformat_minor": 2
}
