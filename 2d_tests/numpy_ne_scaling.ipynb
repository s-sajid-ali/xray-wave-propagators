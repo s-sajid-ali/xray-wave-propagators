{
 "cells": [
  {
   "cell_type": "code",
   "execution_count": 18,
   "metadata": {},
   "outputs": [],
   "source": [
    "import numpy as np\n",
    "import numexpr as ne\n",
    "import timeit\n",
    "import os,time"
   ]
  },
  {
   "cell_type": "code",
   "execution_count": 2,
   "metadata": {},
   "outputs": [],
   "source": [
    "def setup(N):\n",
    "    N = int(N)\n",
    "    pi = np.pi\n",
    "    wavel = 0.5*10**(-6)\n",
    "    z = 100000\n",
    "    L_in = 5e-1\n",
    "\n",
    "    in_wave = np.zeros((N,N),dtype=np.complex128)\n",
    "    N_in_x = np.shape(in_wave)[0]\n",
    "    N_in_y = np.shape(in_wave)[1]\n",
    "    in_domain_x = np.linspace(-L_in/2,L_in/2,N_in_x)\n",
    "    in_domain_y = np.linspace(-L_in/2,L_in/2,N_in_y)\n",
    "\n",
    "    fac = ((-1j*pi)/(wavel*z))\n",
    "    i = 0\n",
    "    j = 0\n",
    "    x1 = 1e-5\n",
    "    y1 = 1e-5\n",
    "    X_in,Y_in = np.meshgrid(in_domain_x,in_domain_y)\n",
    "    \n",
    "    return in_wave,fac,X_in,x1,Y_in,y1"
   ]
  },
  {
   "cell_type": "code",
   "execution_count": 3,
   "metadata": {},
   "outputs": [],
   "source": [
    "in_wave,fac,X_in,x1,Y_in,y1  = setup(int(25000))"
   ]
  },
  {
   "cell_type": "code",
   "execution_count": 4,
   "metadata": {},
   "outputs": [
    {
     "data": {
      "text/plain": [
       "(25000, 25000)"
      ]
     },
     "execution_count": 4,
     "metadata": {},
     "output_type": "execute_result"
    }
   ],
   "source": [
    "np.shape(in_wave)"
   ]
  },
  {
   "cell_type": "code",
   "execution_count": 5,
   "metadata": {},
   "outputs": [],
   "source": [
    "#ne.set_vml_num_threads(8)\n",
    "#%timeit ne.evaluate('sum(in_wave*exp(fac*((X_in-x1)**2+(Y_in-y1)**2)))')"
   ]
  },
  {
   "cell_type": "code",
   "execution_count": 6,
   "metadata": {},
   "outputs": [],
   "source": [
    "import numexpr3 as ne3"
   ]
  },
  {
   "cell_type": "code",
   "execution_count": 7,
   "metadata": {},
   "outputs": [
    {
     "data": {
      "text/plain": [
       "0j"
      ]
     },
     "execution_count": 7,
     "metadata": {},
     "output_type": "execute_result"
    }
   ],
   "source": [
    "np.sum(in_wave*np.exp(fac*((X_in-x1)**2+(Y_in-y1)**2)))"
   ]
  },
  {
   "cell_type": "code",
   "execution_count": 9,
   "metadata": {},
   "outputs": [
    {
     "data": {
      "text/plain": [
       "0j"
      ]
     },
     "execution_count": 9,
     "metadata": {},
     "output_type": "execute_result"
    }
   ],
   "source": [
    "temp = ne3.evaluate('(in_wave*exp(fac*((X_in-x1)**2+(Y_in-y1)**2)))')\n",
    "np.sum(temp)"
   ]
  },
  {
   "cell_type": "code",
   "execution_count": null,
   "metadata": {},
   "outputs": [],
   "source": [
    "t1 = time.time()\n",
    "ne3.set_nthreads(10)\n",
    "out = ne3.evaluate('(in_wave*exp(fac*((X_in-x1)**2+(Y_in-y1)**2)))')\n",
    "print(time.time()-t1)"
   ]
  },
  {
   "cell_type": "code",
   "execution_count": 20,
   "metadata": {},
   "outputs": [
    {
     "name": "stdout",
     "output_type": "stream",
     "text": [
      "1.38 s ± 103 ms per loop (mean ± std. dev. of 7 runs, 1 loop each)\n"
     ]
    }
   ],
   "source": [
    "%timeit np.sum(out)"
   ]
  },
  {
   "cell_type": "code",
   "execution_count": null,
   "metadata": {},
   "outputs": [],
   "source": []
  }
 ],
 "metadata": {
  "kernelspec": {
   "display_name": "Python [default]",
   "language": "python",
   "name": "python3"
  },
  "language_info": {
   "codemirror_mode": {
    "name": "ipython",
    "version": 3
   },
   "file_extension": ".py",
   "mimetype": "text/x-python",
   "name": "python",
   "nbconvert_exporter": "python",
   "pygments_lexer": "ipython3",
   "version": "3.6.3"
  }
 },
 "nbformat": 4,
 "nbformat_minor": 2
}
