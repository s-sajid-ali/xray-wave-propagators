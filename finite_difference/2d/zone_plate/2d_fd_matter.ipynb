{
 "cells": [
  {
   "cell_type": "markdown",
   "metadata": {},
   "source": [
    "We are trying to solve: <br><br>\n",
    "$\\frac{\\partial u(x,y,z)}{\\partial x} = A(\\frac{\\partial^{2} u}{\\partial z^{2}}+\\frac{\\partial^{2} u}{\\partial y^{2}}) + F(x,y,z)u$<br><br><br>\n",
    "Using ADI, this becomes two half step updates (eq 3.25, [Fuhse thesis](https://www.google.com/url?sa=t&rct=j&q=&esrc=s&source=web&cd=1&ved=2ahUKEwj11OzNzOXdAhWM1IMKHQeFBfwQFjAAegQICRAC&url=https%3A%2F%2Fediss.uni-goettingen.de%2Fbitstream%2Fhandle%2F11858%2F00-1735-0000-0006-B592-3%2Ffuhse.pdf%3Fsequence%3D1&usg=AOvVaw1HRt8mkDnQc_LoM-RhOpcu)), with the first one being : <br><br>\n",
    "$(1-\\frac{r_{y}}{2}\\delta^{2}_{y}+C^{n+\\frac{1}{2}}_{jk})*u^{n+\\frac{1}{2}}_{jk} = (1+\\frac{r_{z}}{2}\\delta^{2}_{z}+C^{n}_{jk})*u^{n}_{jk}$<br><br>\n",
    "This can be written as a series of linear matrix equations :<br><br>\n",
    "$B^{n}_{k}*u^{n+\\frac{1}{2}}_{k} = r_{k}$, for $k = 1,....., M_{z}-1$<br><br>\n",
    "and for the second half step, it becomes:<br><br>\n",
    "$B^{'n}_{j}*u^{n+1}_{j} = r^{'}_{j}$, for $k = 1,....., M_{z}-1$<br>\n",
    "<br><br>\n",
    "Define: <br><br>\n",
    "$r_{y} = A\\frac{\\Delta x}{\\Delta y^{2}}$<br>\n",
    "$r_{z} = A\\frac{\\Delta x}{\\Delta z^{2}}$<br>\n",
    "$C^{n}_{jk} = \\frac{F^{n}_{k}\\Delta x}{4}$<br>\n",
    "$A = \\frac{-i}{2k}$<br>\n",
    "$F(x,y,z) = -1*\\frac{ik}{2}(n^{2}(x,y,z)-1)$"
   ]
  },
  {
   "cell_type": "code",
   "execution_count": 1,
   "metadata": {},
   "outputs": [],
   "source": [
    "import numpy as np\n",
    "import urllib\n",
    "import matplotlib.pyplot as plt\n",
    "from skimage.restoration import unwrap_phase\n",
    "from tqdm import trange\n",
    "from scipy.signal import gaussian\n",
    "from scipy.sparse import diags\n",
    "import scipy.sparse.linalg as splinalg\n",
    "import os,pickle\n",
    "np.set_printoptions(2)"
   ]
  },
  {
   "cell_type": "code",
   "execution_count": 2,
   "metadata": {},
   "outputs": [],
   "source": [
    "def get_property(mat,energy):\n",
    "    url = \"http://henke.lbl.gov/cgi-bin/pert_cgi.pl\"\n",
    "    data = {'Element':str(mat), 'Energy':str(energy), 'submit':'Submit Query'}\n",
    "    data = urllib.parse.urlencode(data)\n",
    "    data = data.encode('utf-8')\n",
    "    req = urllib.request.Request(url, data)\n",
    "    resp = urllib.request.urlopen(req)\n",
    "    respDat = resp.read()\n",
    "    response = respDat.split()\n",
    "    d =  b'g/cm^3<li>Delta'\n",
    "    i = response.index(d)\n",
    "    delta = str(response[i+2])[:str(response[i+2]).index('<li>Beta')][2:]\n",
    "    beta = str(response[i+4])[2:-1]\n",
    "    return float(delta),float(beta)"
   ]
  },
  {
   "cell_type": "code",
   "execution_count": 3,
   "metadata": {},
   "outputs": [],
   "source": [
    "def make_zp_from_rings(n,grid_size):\n",
    "    zp = np.zeros((grid_size,grid_size))\n",
    "    for i in range(n):\n",
    "        if i%2 == 1 :\n",
    "            locs_ = np.load('ring_locs_'+str(i)+'.npy')\n",
    "            locs_ = tuple((locs_[0],locs_[1]))\n",
    "            vals_ = np.load('ring_vals_'+str(i)+'.npy')\n",
    "            zp[locs_] = vals_\n",
    "    return zp"
   ]
  },
  {
   "cell_type": "code",
   "execution_count": 4,
   "metadata": {},
   "outputs": [
    {
     "name": "stdout",
     "output_type": "stream",
     "text": [
      "grid_size  :  5000\n",
      "step_xy  :  2.800560112021502e-08\n",
      "energy(in eV)  :  500\n",
      "wavelength in m  :  2.47968e-09\n",
      "focal_length  :  0.0015\n",
      "zp_coords  :  [-7e-05, 7e-05, -7e-05, 7e-05]\n",
      "delta  :  0.0048625\n",
      "beta  :  0.004763\n"
     ]
    },
    {
     "data": {
      "image/png": "[encoded data removed]",
      "text/plain": [
       "<Figure size 432x288 with 2 Axes>"
      ]
     },
     "metadata": {},
     "output_type": "display_data"
    }
   ],
   "source": [
    "os.chdir(os.getcwd()+str('/zp_make/rings'))\n",
    "parameters = pickle.load(open('parameters.pickle','rb'))\n",
    "for i in parameters : print(i,' : ',parameters[i])\n",
    "zp_coords = parameters['zp_coords']\n",
    "grid_size = parameters['grid_size']\n",
    "zp = make_zp_from_rings(100,int(grid_size))\n",
    "plt.imshow(zp,extent=np.array(zp_coords)*1e6)\n",
    "plt.title('Zone plate pattern')\n",
    "plt.xlabel('axes in um')\n",
    "plt.colorbar()\n",
    "plt.show()"
   ]
  },
  {
   "cell_type": "code",
   "execution_count": 5,
   "metadata": {},
   "outputs": [],
   "source": [
    "E = 500\n",
    "wavel = (1239.84/E)*1e-9\n",
    "k = ((2*np.pi)/wavel)\n",
    "A = -1j/(2*k)"
   ]
  },
  {
   "cell_type": "code",
   "execution_count": 6,
   "metadata": {},
   "outputs": [],
   "source": [
    "dim_x = 10\n",
    "dim_y = 5000\n",
    "dim_z = 5000\n",
    "\n",
    "x = np.linspace(0,10e-6,dim_x)\n",
    "y = np.linspace(-70e-6,70e-6,dim_y)\n",
    "z = np.linspace(-70e-6,70e-6,dim_z)\n",
    "\n",
    "Δx = x[1] - x[0]\n",
    "Δy = y[1] - y[0]\n",
    "Δz = z[1] - z[0]\n",
    "\n",
    "\n",
    "r_y = A * (Δx/(Δy)**2) \n",
    "r_z = A * (Δx/(Δz)**2) \n",
    "\n",
    "coords = [y[0]*1e6,y[-1]*1e6,z[0]*1e6,z[-1]*1e6]\n",
    "n_au = 1 - get_property('Au',E)[0] - 1j*get_property('Au',E)[1]"
   ]
  },
  {
   "cell_type": "code",
   "execution_count": 7,
   "metadata": {},
   "outputs": [],
   "source": [
    "F = np.zeros((dim_x,dim_y,dim_z),dtype=np.complex128)"
   ]
  },
  {
   "cell_type": "code",
   "execution_count": 8,
   "metadata": {},
   "outputs": [],
   "source": [
    "for i in range(dim_x):\n",
    "    F[i,:,:] = -1j*(k/2)*(1-(zp*n_au)**2)"
   ]
  },
  {
   "cell_type": "code",
   "execution_count": 9,
   "metadata": {},
   "outputs": [],
   "source": [
    "wave = np.ones((dim_y,dim_z),dtype=np.complex128)\n",
    "wave_new = np.ones((dim_y,dim_z),dtype=np.complex128)\n",
    "Y,Z = np.meshgrid(y,z)\n",
    "wave_history = np.ones((dim_x,dim_y,dim_z),dtype=np.complex128)"
   ]
  },
  {
   "cell_type": "code",
   "execution_count": 10,
   "metadata": {},
   "outputs": [
    {
     "data": {
      "image/png": "[encoded data removed]",
      "text/plain": [
       "<Figure size 432x288 with 4 Axes>"
      ]
     },
     "metadata": {},
     "output_type": "display_data"
    }
   ],
   "source": [
    "fig,(ax1,ax2) = plt.subplots(1,2)\n",
    "im1 = ax1.imshow(np.abs(wave))\n",
    "fig.colorbar(im1, ax=ax1,fraction=0.05)\n",
    "im2 = ax2.imshow(unwrap_phase(np.angle(wave)))\n",
    "fig.colorbar(im2, ax=ax2,fraction=0.05)\n",
    "fig.suptitle('input wave, magnitude and phase')\n",
    "fig.subplots_adjust(wspace=0.5)\n",
    "plt.rcParams[\"figure.figsize\"] = (8,8)\n",
    "plt.show()"
   ]
  },
  {
   "cell_type": "code",
   "execution_count": null,
   "metadata": {},
   "outputs": [],
   "source": [
    "def step_1(wave_new,wave,B,dim_z,r_y,r_z,k):\n",
    "    c = ((Δx/4)*F[i,1:-1,k])\n",
    "    d = wave[1:-1,k]*(1+c) + (r_z/2)*(wave[1:-1,k-1]-2*wave[1:-1,k]+wave[1:-1,k+1])\n",
    "    d[0]  += (r_y/2)*wave[0,k]\n",
    "    d[-1] += (r_y/2)*wave[-1,k]\n",
    "    B = B - diags(c,offsets=0)\n",
    "    wave_new[1:-1,k] = splinalg.spsolve(B,d)\n",
    "\n",
    "def step_2(wave_new,wave,B,dim_y,r_y,r_z,j):\n",
    "    c = ((Δx/4)*F[i,j,1:-1])\n",
    "    d = wave[j,1:-1]*(1+c) + (r_y/2)*(wave[j-1,1:-1]-2*wave[j,1:-1]+wave[j+1,1:-1])\n",
    "    d[0]  += (r_z/2)*wave[j,0]\n",
    "    d[-1] += (r_z/2)*wave[j,-1]\n",
    "    B = B - diags(c,offsets=0)\n",
    "    wave_new[j,1:-1] = splinalg.spsolve(B,d)"
   ]
  },
  {
   "cell_type": "code",
   "execution_count": null,
   "metadata": {},
   "outputs": [
    {
     "name": "stderr",
     "output_type": "stream",
     "text": [
      " 90%|█████████ | 9/10 [07:06<00:47, 47.44s/it]"
     ]
    }
   ],
   "source": [
    "for i in trange(dim_x):\n",
    "    b_diag = np.ones(dim_z-2)*(1 + r_y)\n",
    "    B = diags(b_diag,offsets=0) + diags(-r_y/2*np.ones(dim_z-3),offsets=1) + diags(-r_y/2*np.ones(dim_z-3),offsets=-1)\n",
    "    for k in range(1,dim_z-1):\n",
    "        step_1(wave_new,wave,B,dim_z,r_y,r_z,k)\n",
    "\n",
    "    b_diag = np.ones(dim_y-2)*(1 + r_z)\n",
    "    B = diags(b_diag,offsets=0) + diags(-r_z/2*np.ones(dim_y-3),offsets=1) + diags(-r_z/2*np.ones(dim_y-3),offsets=-1) \n",
    "    for j in range(1,dim_y-1):\n",
    "        step_2(wave,wave_new,B,dim_y,r_y,r_z,j)\n",
    "    \n",
    "    wave_history[i,1:-1,1:-1] = wave[1:-1,1:-1]"
   ]
  },
  {
   "cell_type": "code",
   "execution_count": null,
   "metadata": {},
   "outputs": [],
   "source": [
    "plt.imshow((np.abs(wave_history[-1,:,:])),origin='lower',extent=coords,aspect='auto')\n",
    "plt.colorbar()\n",
    "plt.xlabel('axes in um')\n",
    "plt.ylabel('axes in um')\n",
    "plt.title('Propagaton  dist = '+str(round(x[-1]*1e6,3))+' um, at '+str(round(E*1e-3,3))+' keV')\n",
    "plt.show()"
   ]
  },
  {
   "cell_type": "code",
   "execution_count": null,
   "metadata": {},
   "outputs": [],
   "source": [
    "fig,(ax1,ax2) = plt.subplots(1,2)\n",
    "\n",
    "im1 = ax1.imshow(np.abs(wave_history[-1,:,:]))\n",
    "ax1.set_title('Finite Difference, Magnitude')\n",
    "fig.colorbar(im1, ax=ax1,fraction=0.05)\n",
    "\n",
    "im2 = ax2.imshow(unwrap_phase(np.angle(wave_history[-1,:,:])))\n",
    "ax2.set_title('Finite Difference, Phase')\n",
    "fig.colorbar(im2, ax=ax2,fraction=0.05)\n",
    "\n",
    "fig.subplots_adjust(hspace=0.2)\n",
    "fig.subplots_adjust(wspace=0.2)\n",
    "plt.show()"
   ]
  },
  {
   "cell_type": "code",
   "execution_count": null,
   "metadata": {},
   "outputs": [],
   "source": [
    "from multislice import prop,prop_utils\n",
    "wave_exit = wave_history[-1,:,:]"
   ]
  },
  {
   "cell_type": "code",
   "execution_count": null,
   "metadata": {},
   "outputs": [],
   "source": [
    "step_z = 1.5e-3\n",
    "L = Δy*dim_y\n",
    "p = prop_utils.decide(step_z,Δy,L,wavel)\n",
    "print('Propagation to focal plane')\n",
    "print('Fresnel Number :',((L**2)/(wavel*step_z)))\n",
    "wave_focus,L2 = p(wave_exit - np.ones(np.shape(wave_exit)),Δy,L,wavel,step_z)\n",
    "wave_focus = wave_focus +  np.ones(np.shape(wave_exit))"
   ]
  },
  {
   "cell_type": "code",
   "execution_count": null,
   "metadata": {},
   "outputs": [],
   "source": [
    "focal_spot_size = 100\n",
    "focal_spot,x_,y_,max_val = prop_utils.get_focal_spot(np.abs(wave_focus),grid_size,focal_spot_size)"
   ]
  },
  {
   "cell_type": "code",
   "execution_count": null,
   "metadata": {},
   "outputs": [],
   "source": [
    "plt.imshow(np.log(focal_spot**2+1),extent = np.array([-1,1,-1,1])*(focal_spot_size)*(L2/grid_size)*(1e9),cmap='jet')\n",
    "plt.title('focal spot intensity (log scale)')\n",
    "plt.xlabel('axes in nm')\n",
    "plt.colorbar()\n",
    "plt.show()"
   ]
  },
  {
   "cell_type": "code",
   "execution_count": null,
   "metadata": {},
   "outputs": [],
   "source": []
  }
 ],
 "metadata": {
  "kernelspec": {
   "display_name": "Python [conda env:intelpy3]",
   "language": "python",
   "name": "conda-env-intelpy3-py"
  },
  "language_info": {
   "codemirror_mode": {
    "name": "ipython",
    "version": 3
   },
   "file_extension": ".py",
   "mimetype": "text/x-python",
   "name": "python",
   "nbconvert_exporter": "python",
   "pygments_lexer": "ipython3",
   "version": "3.6.3"
  }
 },
 "nbformat": 4,
 "nbformat_minor": 2
}
