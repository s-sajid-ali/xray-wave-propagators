{
 "cells": [
  {
   "cell_type": "markdown",
   "metadata": {},
   "source": [
    "We are trying to solve: <br><br>\n",
    "$\\frac{\\partial u(x,y,z)}{\\partial x} = A(\\frac{\\partial^{2} u}{\\partial z^{2}}+\\frac{\\partial^{2} u}{\\partial y^{2}}) + F(x,y,z)u$<br><br><br>\n",
    "Using ADI, this becomes two half step updates (eq 3.25, [Fuhse thesis](https://www.google.com/url?sa=t&rct=j&q=&esrc=s&source=web&cd=1&ved=2ahUKEwj11OzNzOXdAhWM1IMKHQeFBfwQFjAAegQICRAC&url=https%3A%2F%2Fediss.uni-goettingen.de%2Fbitstream%2Fhandle%2F11858%2F00-1735-0000-0006-B592-3%2Ffuhse.pdf%3Fsequence%3D1&usg=AOvVaw1HRt8mkDnQc_LoM-RhOpcu)), with the first one being : <br><br>\n",
    "$(1-\\frac{r_{y}}{2}\\delta^{2}_{y}+C^{n+\\frac{1}{2}}_{jk})*u^{n+\\frac{1}{2}}_{jk} = (1+\\frac{r_{z}}{2}\\delta^{2}_{z}+C^{n}_{jk})*u^{n}_{jk}$<br><br>\n",
    "This can be written as a series of linear matrix equations :<br><br>\n",
    "$B^{n}_{k}*u^{n+\\frac{1}{2}}_{k} = r_{k}$, for $k = 1,....., M_{z}-1$<br><br>\n",
    "and for the second half step, it becomes:<br><br>\n",
    "$B^{'n}_{j}*u^{n+1}_{j} = r^{'}_{j}$, for $k = 1,....., M_{z}-1$<br>\n",
    "<br><br>\n",
    "Define: <br><br>\n",
    "$r_{y} = A\\frac{\\Delta x}{\\Delta y^{2}}$<br>\n",
    "$r_{z} = A\\frac{\\Delta x}{\\Delta z^{2}}$<br>\n",
    "$C^{n}_{jk} = \\frac{F^{n}_{k}\\Delta x}{4}$<br>\n",
    "$A = \\frac{-i}{2k}$<br>\n",
    "$F(x,y,z) = -1*\\frac{ik}{2}(n^{2}(x,y,z)-1)$"
   ]
  },
  {
   "cell_type": "code",
   "execution_count": 1,
   "metadata": {},
   "outputs": [],
   "source": [
    "import numpy as np\n",
    "import urllib\n",
    "import matplotlib.pyplot as plt\n",
    "from skimage.restoration import unwrap_phase\n",
    "from tqdm import trange\n",
    "from scipy.signal import gaussian\n",
    "from scipy.sparse import diags\n",
    "import scipy.sparse.linalg as splinalg\n",
    "np.set_printoptions(2)"
   ]
  },
  {
   "cell_type": "code",
   "execution_count": 6,
   "metadata": {},
   "outputs": [],
   "source": [
    "def get_property(mat,energy):\n",
    "    url = \"http://henke.lbl.gov/cgi-bin/pert_cgi.pl\"\n",
    "    data = {'Element':str(mat), 'Energy':str(energy), 'submit':'Submit Query'}\n",
    "    data = urllib.parse.urlencode(data)\n",
    "    data = data.encode('utf-8')\n",
    "    req = urllib.request.Request(url, data)\n",
    "    resp = urllib.request.urlopen(req)\n",
    "    respDat = resp.read()\n",
    "    response = respDat.split()\n",
    "    d =  b'g/cm^3<li>Delta'\n",
    "    i = response.index(d)\n",
    "    delta = str(response[i+2])[:str(response[i+2]).index('<li>Beta')][2:]\n",
    "    beta = str(response[i+4])[2:-1]\n",
    "    return float(delta),float(beta)"
   ]
  },
  {
   "cell_type": "code",
   "execution_count": 7,
   "metadata": {},
   "outputs": [],
   "source": [
    "π = np.pi\n",
    "E = 10000\n",
    "λ = (1239.84/E)*1e-9\n",
    "k = ((2*π)/λ)\n",
    "A = -1j/(2*k)\n",
    "n_au = 1 - get_property('Au',E)[0] - 1j*get_property('Au',E)[1]"
   ]
  },
  {
   "cell_type": "code",
   "execution_count": 10,
   "metadata": {},
   "outputs": [],
   "source": [
    "dim_x = 500\n",
    "dim_y = 500\n",
    "dim_z = 500\n",
    "\n",
    "x = np.linspace(0,5e-3,dim_x)\n",
    "y = np.linspace(-4e-6,4e-6,dim_z)\n",
    "z = np.linspace(-4e-6,4e-6,dim_z)\n",
    "\n",
    "Δx = x[1] - x[0]\n",
    "Δy = y[1] - y[0]\n",
    "Δz = z[1] - z[0]\n",
    "\n",
    "r_y = A * (Δx/(Δy)**2) \n",
    "r_z = A * (Δx/(Δz)**2) "
   ]
  },
  {
   "cell_type": "code",
   "execution_count": 12,
   "metadata": {},
   "outputs": [],
   "source": [
    "wave = np.zeros((dim_y,dim_z),dtype=np.complex128)\n",
    "Y,Z = np.meshgrid(y,z)\n",
    "loc_wave = np.where(np.logical_and(np.abs(Z)<0.5e-6,np.abs(Y)<0.5e-6))\n",
    "wave[loc_wave] = 1\n",
    "wave_history = np.zeros((dim_y,dim_z,dim_x),dtype=np.complex128)"
   ]
  },
  {
   "cell_type": "code",
   "execution_count": 16,
   "metadata": {},
   "outputs": [
    {
     "data": {
      "image/png": "[encoded data removed]",
      "text/plain": [
       "<Figure size 432x288 with 2 Axes>"
      ]
     },
     "metadata": {},
     "output_type": "display_data"
    }
   ],
   "source": [
    "fig,(ax1,ax2) = plt.subplots(1,2)\n",
    "ax1.imshow(np.abs(wave))\n",
    "ax2.imshow(unwrap_phase(np.angle(wave)))\n",
    "fig.suptitle('input wave, magnitude and phase')\n",
    "plt.show()"
   ]
  },
  {
   "cell_type": "code",
   "execution_count": 20,
   "metadata": {},
   "outputs": [
    {
     "name": "stderr",
     "output_type": "stream",
     "text": [
      "100%|██████████| 500/500 [00:00<00:00, 26209.81it/s]\n"
     ]
    }
   ],
   "source": [
    "for i in trange(dim_x):\n",
    "    ##Step 1\n",
    "    for i in range(dim_z-2):\n",
    "        '''\n",
    "        c = np.ones(dim_z-2)\n",
    "        d = c*wave[1:-1] + 0.5*r_z*wave[2:] + 0.5*r_z*wave[:-2]\n",
    "        d[0]  += r_z*wave[0]\n",
    "        d[-1] += r_z*wave[-1]\n",
    "        b_diag = np.ones(dim_z-2)*(1 + r_z)\n",
    "        B = diags(b_diag,offsets=0) + diags(-r_z/2*np.ones(dim_z-3),offsets=1) + diags(-r_z/2*np.ones(dim_z-3),offsets=-1)\n",
    "        wave[1:-1] = splinalg.spsolve(B,d)\n",
    "        '''\n",
    "    ##Step 2\n",
    "    for i in range(dim_z):\n",
    "        pass\n",
    "    \n",
    "wave_history[1:-1,i] = wave[1:-1]"
   ]
  },
  {
   "cell_type": "code",
   "execution_count": 23,
   "metadata": {},
   "outputs": [
    {
     "data": {
      "image/png": "[encoded data removed]",
      "text/plain": [
       "<Figure size 432x288 with 2 Axes>"
      ]
     },
     "metadata": {},
     "output_type": "display_data"
    }
   ],
   "source": [
    "plt.imshow(np.log(np.abs(wave_history[-1,:,:])**2+1),origin='lower',aspect='auto',cmap='jet')\n",
    "plt.colorbar()\n",
    "plt.xlabel('axes in um')\n",
    "plt.ylabel('axes in um')\n",
    "plt.title('Free space propagaton (log scale), at '+str(round(E*1e-3,3))+' keV')\n",
    "plt.rcParams[\"figure.figsize\"] = (8,8)\n",
    "plt.show()"
   ]
  },
  {
   "cell_type": "code",
   "execution_count": 24,
   "metadata": {},
   "outputs": [
    {
     "data": {
      "image/png": "[encoded data removed]",
      "text/plain": [
       "<Figure size 576x576 with 2 Axes>"
      ]
     },
     "metadata": {},
     "output_type": "display_data"
    }
   ],
   "source": [
    "plt.imshow((np.abs(wave_history[-1,:,:])**2+1),origin='lower',aspect='auto',cmap='jet')\n",
    "plt.colorbar()\n",
    "plt.show()"
   ]
  },
  {
   "cell_type": "code",
   "execution_count": null,
   "metadata": {},
   "outputs": [],
   "source": []
  }
 ],
 "metadata": {
  "kernelspec": {
   "display_name": "Python [conda env:intelpy3]",
   "language": "python",
   "name": "conda-env-intelpy3-py"
  },
  "language_info": {
   "codemirror_mode": {
    "name": "ipython",
    "version": 3
   },
   "file_extension": ".py",
   "mimetype": "text/x-python",
   "name": "python",
   "nbconvert_exporter": "python",
   "pygments_lexer": "ipython3",
   "version": "3.6.3"
  }
 },
 "nbformat": 4,
 "nbformat_minor": 2
}
