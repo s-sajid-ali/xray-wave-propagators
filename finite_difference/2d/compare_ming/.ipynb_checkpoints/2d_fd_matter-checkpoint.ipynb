{
 "cells": [
  {
   "cell_type": "markdown",
   "metadata": {},
   "source": [
    "We are trying to solve: <br><br>\n",
    "$\\frac{\\partial u(x,y,z)}{\\partial x} = A(\\frac{\\partial^{2} u}{\\partial z^{2}}+\\frac{\\partial^{2} u}{\\partial y^{2}}) + F(x,y,z)u$<br><br><br>\n",
    "Using ADI, this becomes two half step updates (eq 3.25, [Fuhse thesis](https://www.google.com/url?sa=t&rct=j&q=&esrc=s&source=web&cd=1&ved=2ahUKEwj11OzNzOXdAhWM1IMKHQeFBfwQFjAAegQICRAC&url=https%3A%2F%2Fediss.uni-goettingen.de%2Fbitstream%2Fhandle%2F11858%2F00-1735-0000-0006-B592-3%2Ffuhse.pdf%3Fsequence%3D1&usg=AOvVaw1HRt8mkDnQc_LoM-RhOpcu)), with the first one being : <br><br>\n",
    "$(1-\\frac{r_{y}}{2}\\delta^{2}_{y}+C^{n+\\frac{1}{2}}_{jk})*u^{n+\\frac{1}{2}}_{jk} = (1+\\frac{r_{z}}{2}\\delta^{2}_{z}+C^{n}_{jk})*u^{n}_{jk}$<br><br>\n",
    "This can be written as a series of linear matrix equations :<br><br>\n",
    "$B^{n}_{k}*u^{n+\\frac{1}{2}}_{k} = r_{k}$, for $k = 1,....., M_{z}-1$<br><br>\n",
    "and for the second half step, it becomes:<br><br>\n",
    "$B^{'n}_{j}*u^{n+1}_{j} = r^{'}_{j}$, for $k = 1,....., M_{z}-1$<br>\n",
    "<br><br>\n",
    "Define: <br><br>\n",
    "$r_{y} = A\\frac{\\Delta x}{\\Delta y^{2}}$<br>\n",
    "$r_{z} = A\\frac{\\Delta x}{\\Delta z^{2}}$<br>\n",
    "$C^{n}_{jk} = \\frac{F^{n}_{k}\\Delta x}{4}$<br>\n",
    "$A = \\frac{-i}{2k}$<br>\n",
    "$F(x,y,z) = -1*\\frac{ik}{2}(n^{2}(x,y,z)-1)$"
   ]
  },
  {
   "cell_type": "code",
   "execution_count": null,
   "metadata": {},
   "outputs": [],
   "source": [
    "import numpy as np\n",
    "import urllib\n",
    "import matplotlib.pyplot as plt\n",
    "from skimage.restoration import unwrap_phase\n",
    "from tqdm import trange\n",
    "from scipy.signal import gaussian\n",
    "from scipy.sparse import diags\n",
    "import scipy.sparse.linalg as splinalg\n",
    "np.set_printoptions(2)\n",
    "%load_ext Cython"
   ]
  },
  {
   "cell_type": "code",
   "execution_count": null,
   "metadata": {},
   "outputs": [],
   "source": [
    "E = 25000\n",
    "wavel = (1239.84/E)*1e-9\n",
    "k = ((2*np.pi)/wavel)\n",
    "A = -1j/(2*k)"
   ]
  },
  {
   "cell_type": "code",
   "execution_count": null,
   "metadata": {},
   "outputs": [],
   "source": [
    "dim_x = 255\n",
    "dim_y = 255\n",
    "dim_z = 255\n",
    "\n",
    "x = np.linspace(0,255e-7,dim_x)\n",
    "y = np.linspace(0,255e-7,dim_y)\n",
    "z = np.linspace(0,255e-7,dim_z)\n",
    "\n",
    "Δx = x[1] - x[0]\n",
    "Δy = y[1] - y[0]\n",
    "Δz = z[1] - z[0]\n",
    "\n",
    "\n",
    "r_y = A * (Δx/(Δy)**2) \n",
    "r_z = A * (Δx/(Δz)**2) \n",
    "\n",
    "coords = [y[0]*1e6,y[-1]*1e6,z[0]*1e6,z[-1]*1e6]"
   ]
  },
  {
   "cell_type": "code",
   "execution_count": null,
   "metadata": {},
   "outputs": [],
   "source": [
    "F = np.zeros((dim_x,dim_y,dim_z),dtype=np.complex128)"
   ]
  },
  {
   "cell_type": "code",
   "execution_count": null,
   "metadata": {},
   "outputs": [],
   "source": [
    "grid_beta = np.load('grid_beta.npy')\n",
    "grid_delta = np.load('grid_delta.npy')"
   ]
  },
  {
   "cell_type": "code",
   "execution_count": null,
   "metadata": {},
   "outputs": [],
   "source": [
    "for i in range(255):\n",
    "    F[i,:,:] = -1j*(k/2)*((1-grid_delta[:,:,i].T-1j*grid_beta[:,:,i].T)**2-np.array(np.ones((255,255)),dtype=np.complex128))"
   ]
  },
  {
   "cell_type": "code",
   "execution_count": null,
   "metadata": {},
   "outputs": [],
   "source": [
    "wave = np.ones((dim_y,dim_z),dtype=np.complex128)\n",
    "wave_new = np.ones((dim_y,dim_z),dtype=np.complex128)\n",
    "Y,Z = np.meshgrid(y,z)\n",
    "wave_history = np.zeros((dim_x,dim_y,dim_z),dtype=np.complex128)"
   ]
  },
  {
   "cell_type": "code",
   "execution_count": null,
   "metadata": {},
   "outputs": [],
   "source": [
    "fig,(ax1,ax2) = plt.subplots(1,2)\n",
    "im1 = ax1.imshow(np.abs(wave))\n",
    "fig.colorbar(im1, ax=ax1,fraction=0.05)\n",
    "im2 = ax2.imshow(unwrap_phase(np.angle(wave)))\n",
    "fig.colorbar(im2, ax=ax2,fraction=0.05)\n",
    "fig.suptitle('input wave, magnitude and phase')\n",
    "fig.subplots_adjust(wspace=0.5)\n",
    "plt.show()"
   ]
  },
  {
   "cell_type": "code",
   "execution_count": null,
   "metadata": {},
   "outputs": [],
   "source": [
    "def step_1(wave_new,wave,B,dim_z,r_y,r_z,k):\n",
    "    d = wave[1:-1,k] + (r_z/2)*(wave[1:-1,k-1]-2*wave[1:-1,k]+wave[1:-1,k+1])\n",
    "    d[0]  += (r_y/2)*wave[0,k]\n",
    "    d[-1] += (r_y/2)*wave[-1,k]    \n",
    "    wave_new[1:-1,k] = splinalg.spsolve(B,d)\n",
    "\n",
    "def step_2(wave_new,wave,B,dim_y,r_y,r_z,j):\n",
    "    d = wave[j,1:-1] + (r_y/2)*(wave[j-1,1:-1]-2*wave[j,1:-1]+wave[j+1,1:-1])\n",
    "    d[0]  += (r_z/2)*wave[j,0]\n",
    "    d[-1] += (r_z/2)*wave[j,-1]\n",
    "    wave_new[j,1:-1] = splinalg.spsolve(B,d)"
   ]
  },
  {
   "cell_type": "code",
   "execution_count": null,
   "metadata": {},
   "outputs": [],
   "source": [
    "for i in trange(dim_x):\n",
    "    b_diag = np.ones(dim_z-2)*(1 + r_y)\n",
    "    B = diags(b_diag,offsets=0) + diags(-r_y/2*np.ones(dim_z-3),offsets=1) + diags(-r_y/2*np.ones(dim_z-3),offsets=-1)\n",
    "    for k in range(1,dim_z-1):\n",
    "        B = B - diags(((Δx/4)*F[i,1:-1,k]),offsets=0)\n",
    "        step_1(wave_new,wave,B,dim_z,r_y,r_z,k)\n",
    "\n",
    "    b_diag = np.ones(dim_y-2)*(1 + r_z)\n",
    "    B = diags(b_diag,offsets=0) + diags(-r_z/2*np.ones(dim_y-3),offsets=1) + diags(-r_z/2*np.ones(dim_y-3),offsets=-1) \n",
    "    for j in range(1,dim_y-1):\n",
    "        B = B - diags(((Δx/4)*F[i,j,1:-1]),offsets=0)\n",
    "        step_2(wave,wave_new,B,dim_y,r_y,r_z,j)\n",
    "    \n",
    "    wave_history[i,1:-1,1:-1] = wave[1:-1,1:-1]"
   ]
  },
  {
   "cell_type": "code",
   "execution_count": null,
   "metadata": {},
   "outputs": [],
   "source": [
    "plt.imshow((np.abs(wave_history[-1,:,:])),origin='lower',extent=coords,aspect='auto',cmap='jet')\n",
    "plt.colorbar()\n",
    "plt.xlabel('axes in um')\n",
    "plt.ylabel('axes in um')\n",
    "plt.title('Free space propagaton  dist = '+str(round(x[-1]*1e6,3))+' um, at '+str(round(E*1e-3,3))+' keV')\n",
    "plt.show()"
   ]
  },
  {
   "cell_type": "code",
   "execution_count": null,
   "metadata": {},
   "outputs": [],
   "source": [
    "i = 100\n",
    "f,(ax1,ax2) = plt.subplots(1,2)\n",
    "ax1.imshow((np.abs(wave_history[i,:,:])),origin='upper',aspect='auto',extent=coords,cmap='jet')\n",
    "ax2.imshow((np.abs(grid_delta[:,:,i])),origin='upper',aspect='auto',cmap='jet')\n",
    "plt.show()"
   ]
  },
  {
   "cell_type": "code",
   "execution_count": null,
   "metadata": {},
   "outputs": [],
   "source": []
  }
 ],
 "metadata": {
  "kernelspec": {
   "display_name": "Python [conda env:intelpy3]",
   "language": "python",
   "name": "conda-env-intelpy3-py"
  },
  "language_info": {
   "codemirror_mode": {
    "name": "ipython",
    "version": 3
   },
   "file_extension": ".py",
   "mimetype": "text/x-python",
   "name": "python",
   "nbconvert_exporter": "python",
   "pygments_lexer": "ipython3",
   "version": "3.6.3"
  }
 },
 "nbformat": 4,
 "nbformat_minor": 2
}
