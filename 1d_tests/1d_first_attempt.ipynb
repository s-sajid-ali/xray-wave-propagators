{
 "cells": [
  {
   "cell_type": "markdown",
   "metadata": {},
   "source": [
    "We are trying to solve <br>\n",
    "$\\frac{\\partial u}{\\partial x} = A\\frac{\\partial^{2} u}{\\partial z^{2}} + F(x,z)u$<br><br>\n",
    "Using Crank Nicolson, this becomes (eq 3.15, [Fuhse thesis](https://www.google.com/url?sa=t&rct=j&q=&esrc=s&source=web&cd=1&ved=2ahUKEwj11OzNzOXdAhWM1IMKHQeFBfwQFjAAegQICRAC&url=https%3A%2F%2Fediss.uni-goettingen.de%2Fbitstream%2Fhandle%2F11858%2F00-1735-0000-0006-B592-3%2Ffuhse.pdf%3Fsequence%3D1&usg=AOvVaw1HRt8mkDnQc_LoM-RhOpcu)) : <br>\n",
    "$B^{n}u^{n+1} = d^{n}$ <br>\n",
    "where, $u^{n}$ denotes the wave at the nth plane, $B^{n}$ is an n by n tridiagonal matrix, and $d^{n}$ is related to $u^{n}$<br><br>\n",
    "Define $r_{z} = A\\frac{\\Delta x}{\\Delta z^{2}}$, $C^{n+\\frac{1}{2}}_{k} = \\frac{F^{n+\\frac{1}{2}}_{k}\\Delta x}{2}$."
   ]
  },
  {
   "cell_type": "code",
   "execution_count": 1,
   "metadata": {},
   "outputs": [],
   "source": [
    "import numpy as np\n",
    "import urllib\n",
    "import matplotlib.pyplot as plt\n",
    "import scipy.linalg as linalg\n",
    "from skimage.restoration import unwrap_phase\n",
    "from tqdm import trange\n",
    "np.set_printoptions(2)"
   ]
  },
  {
   "cell_type": "code",
   "execution_count": 2,
   "metadata": {},
   "outputs": [],
   "source": [
    "def get_property(mat,energy):\n",
    "    url = \"http://henke.lbl.gov/cgi-bin/pert_cgi.pl\"\n",
    "    data = {'Element':str(mat), 'Energy':str(energy), 'submit':'Submit Query'}\n",
    "    data = urllib.parse.urlencode(data)\n",
    "    data = data.encode('utf-8')\n",
    "    req = urllib.request.Request(url, data)\n",
    "    resp = urllib.request.urlopen(req)\n",
    "    respDat = resp.read()\n",
    "    response = respDat.split()\n",
    "    d =  b'g/cm^3<li>Delta'\n",
    "    i = response.index(d)\n",
    "    delta = str(response[i+2])[:str(response[i+2]).index('<li>Beta')][2:]\n",
    "    beta = str(response[i+4])[2:-1]\n",
    "    return float(delta),float(beta)"
   ]
  },
  {
   "cell_type": "code",
   "execution_count": 3,
   "metadata": {},
   "outputs": [],
   "source": [
    "π = np.pi\n",
    "E = 10*1e3\n",
    "λ = (1239.84/E)*1e-9\n",
    "k = ((2*π)/λ)\n",
    "A = -1j/(2*k)\n",
    "n_au = 1 - get_property('Au',E)[0] - 1j*get_property('Au',E)[1]"
   ]
  },
  {
   "cell_type": "code",
   "execution_count": 4,
   "metadata": {},
   "outputs": [],
   "source": [
    "dim_x = 500\n",
    "dim_z = 5000\n",
    "z = np.linspace(-5e-6,5e-6,dim_z)\n",
    "x = np.linspace(0,1000e-6,dim_x)\n",
    "Δx = x[1] - x[0]\n",
    "Δz = z[1] - z[0]\n",
    "X,Z = np.meshgrid(x,z)\n",
    "r_z = A * (Δx/(Δz)**2) \n",
    "coords = [x[0]*1e6,x[-1]*1e6,z[0]*1e6,z[-1]*1e6]"
   ]
  },
  {
   "cell_type": "code",
   "execution_count": 5,
   "metadata": {},
   "outputs": [],
   "source": [
    "c = -2e-6\n",
    "m = np.tan(4e-3)\n",
    "loc_mat = np.where(Z<(m*X+c)) #location of material."
   ]
  },
  {
   "cell_type": "code",
   "execution_count": 6,
   "metadata": {},
   "outputs": [],
   "source": [
    "F = np.zeros(np.shape(X),dtype=np.complex128)\n",
    "F[loc_mat] = -(1j*k/2)*(n_au**2-1)"
   ]
  },
  {
   "cell_type": "code",
   "execution_count": 7,
   "metadata": {},
   "outputs": [
    {
     "data": {
      "image/png": "[encoded data removed]",
      "text/plain": [
       "<matplotlib.figure.Figure at 0x2af3f77ff6a0>"
      ]
     },
     "metadata": {},
     "output_type": "display_data"
    }
   ],
   "source": [
    "plt.imshow(np.abs(F),origin='lower',aspect='auto',extent=coords)\n",
    "plt.colorbar()\n",
    "plt.show()"
   ]
  },
  {
   "cell_type": "code",
   "execution_count": 8,
   "metadata": {},
   "outputs": [],
   "source": [
    "C = np.asfortranarray(F*(Δx/2))\n",
    "wave = np.zeros(dim_z,dtype=np.complex128)\n",
    "loc_wave = np.where(np.logical_and(z<1e-6,z>-1e-6))\n",
    "wave[loc_wave] = 1\n",
    "#θ = 3e-3\n",
    "#slope = np.exp(1j*2*np.pi*(1/λ)*np.tan(θ)*z[loc_wave])\n",
    "#wave[loc_wave] = wave[loc_wave]*slope\n",
    "d = np.zeros(dim_z-2,dtype=np.complex128)\n",
    "wave_history = np.zeros((dim_z,dim_x),dtype=np.complex128)"
   ]
  },
  {
   "cell_type": "code",
   "execution_count": null,
   "metadata": {},
   "outputs": [
    {
     "data": {
      "image/png": "[encoded data removed]",
      "text/plain": [
       "<matplotlib.figure.Figure at 0x2af3f77f6748>"
      ]
     },
     "metadata": {},
     "output_type": "display_data"
    }
   ],
   "source": [
    "fig, ax1 = plt.subplots()\n",
    "ax2 = ax1.twinx()\n",
    "ax1.plot(z*1e6,np.abs(wave),'b')\n",
    "ax2.plot(z*1e6,unwrap_phase(np.angle(wave)),'g')\n",
    "fig.suptitle('input wave, magnitude and phase')\n",
    "ax1.set_xlabel('um')\n",
    "ax1.tick_params('y', colors='b')\n",
    "ax2.tick_params('y', colors='g')\n",
    "plt.show()"
   ]
  },
  {
   "cell_type": "code",
   "execution_count": null,
   "metadata": {},
   "outputs": [
    {
     "name": "stderr",
     "output_type": "stream",
     "text": [
      " 35%|███▍      | 173/500 [06:42<12:39,  2.32s/it]"
     ]
    }
   ],
   "source": [
    "for i in trange(dim_x):\n",
    "    c = C[1:-1,i] + np.ones(np.shape(wave[1:-1]))*(1-r_z)\n",
    "    d = c*wave[1:-1] + 0.5*r_z*wave[2:] + 0.5*r_z*wave[:-2]\n",
    "    b_diag = np.ones(dim_z-2)*(1 + r_z) - C[1:-1,i]\n",
    "    B = np.diag(b_diag,k=0) + np.diag(-r_z*np.ones(dim_z-3),k=1) + np.diag(-r_z*np.ones(dim_z-3),k=-1)\n",
    "    wave[1:-1] = linalg.solve(B,d)\n",
    "    wave_history[1:-1,i] = wave[1:-1]"
   ]
  },
  {
   "cell_type": "code",
   "execution_count": null,
   "metadata": {},
   "outputs": [],
   "source": [
    "plt.imshow(np.log(np.abs(wave_history[:,:])**2+1),origin='lower',aspect='auto',extent=coords,cmap='jet')\n",
    "plt.colorbar()\n",
    "plt.rcParams[\"figure.figsize\"] = (8,8)\n",
    "plt.show()"
   ]
  },
  {
   "cell_type": "code",
   "execution_count": null,
   "metadata": {},
   "outputs": [],
   "source": [
    "plt.plot(np.abs(wave_history[:,int(dim_x/4)]),'r')\n",
    "plt.plot(np.abs(wave_history[:,int(dim_x/2)]),'b')\n",
    "plt.plot(np.abs(wave_history[:,int(dim_x*3/4)]),'g')\n",
    "plt.show()"
   ]
  },
  {
   "cell_type": "code",
   "execution_count": null,
   "metadata": {},
   "outputs": [],
   "source": [
    "from mpl_toolkits.mplot3d import Axes3D\n",
    "import matplotlib.pyplot as plt\n",
    "from matplotlib import cm\n",
    "from matplotlib.ticker import LinearLocator, FormatStrFormatter\n",
    "\n",
    "fig = plt.figure()\n",
    "ax = fig.gca(projection='3d')\n",
    "surf = ax.plot_surface(X*1e6, Z*1e6, np.abs(wave_history), cmap=cm.coolwarm,\n",
    "                       linewidth=0, antialiased=False)\n",
    "ax.w_xaxis.set_major_locator(LinearLocator(5))\n",
    "ax.w_yaxis.set_major_locator(LinearLocator(5))\n",
    "ax.w_zaxis.set_major_locator(LinearLocator(5))\n",
    "plt.rcParams[\"figure.figsize\"] = (8,8)\n",
    "plt.show()"
   ]
  },
  {
   "cell_type": "code",
   "execution_count": null,
   "metadata": {},
   "outputs": [],
   "source": [
    "plt.imshow((np.abs(wave_history[:,:])**2+1),origin='lower',aspect='auto',cmap='jet')\n",
    "plt.colorbar()\n",
    "plt.show()"
   ]
  },
  {
   "cell_type": "code",
   "execution_count": null,
   "metadata": {},
   "outputs": [],
   "source": []
  }
 ],
 "metadata": {
  "kernelspec": {
   "display_name": "Python 3",
   "language": "python",
   "name": "python3"
  },
  "language_info": {
   "codemirror_mode": {
    "name": "ipython",
    "version": 3
   },
   "file_extension": ".py",
   "mimetype": "text/x-python",
   "name": "python",
   "nbconvert_exporter": "python",
   "pygments_lexer": "ipython3",
   "version": "3.6.5"
  }
 },
 "nbformat": 4,
 "nbformat_minor": 2
}
