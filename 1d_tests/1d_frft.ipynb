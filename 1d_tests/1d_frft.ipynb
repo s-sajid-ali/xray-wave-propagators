{
 "cells": [
  {
   "cell_type": "code",
   "execution_count": 1,
   "metadata": {},
   "outputs": [],
   "source": [
    "import numpy as np\n",
    "import matplotlib.pyplot as plt"
   ]
  },
  {
   "cell_type": "code",
   "execution_count": 2,
   "metadata": {},
   "outputs": [],
   "source": [
    "# https://en.wikipedia.org/wiki/DFT_matrix\n",
    "N = 3\n",
    "ω = np.array([np.exp(-2*np.pi*1j/N)])\n",
    "x = np.vander(ω,N,increasing=True)\n",
    "W = np.vander(x[0],increasing=True)*(1/np.sqrt(N))"
   ]
  },
  {
   "cell_type": "code",
   "execution_count": 3,
   "metadata": {},
   "outputs": [],
   "source": [
    "W = np.array([[1, 2, 3], [4, 5, 6], [7, 8, 9]])\n",
    "vals,vecs = np.linalg.eig(W)"
   ]
  },
  {
   "cell_type": "code",
   "execution_count": 4,
   "metadata": {},
   "outputs": [],
   "source": [
    "Q = np.array(vecs, dtype=np.complex128)\n",
    "R = np.linalg.inv(Q)\n",
    "L = np.array(np.diag(vals),dtype=np.complex128)\n",
    "w = Q.dot(L).dot(R)"
   ]
  },
  {
   "cell_type": "code",
   "execution_count": null,
   "metadata": {},
   "outputs": [],
   "source": []
  }
 ],
 "metadata": {
  "kernelspec": {
   "display_name": "Python 3",
   "language": "python",
   "name": "python3"
  },
  "language_info": {
   "codemirror_mode": {
    "name": "ipython",
    "version": 3
   },
   "file_extension": ".py",
   "mimetype": "text/x-python",
   "name": "python",
   "nbconvert_exporter": "python",
   "pygments_lexer": "ipython3",
   "version": "3.6.5"
  }
 },
 "nbformat": 4,
 "nbformat_minor": 2
}
